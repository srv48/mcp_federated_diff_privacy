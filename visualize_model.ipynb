{
 "cells": [
  {
   "cell_type": "code",
   "execution_count": 2,
   "id": "bdef6b5a",
   "metadata": {},
   "outputs": [],
   "source": [
    "import torch\n",
    "from models import SmallCNN, BigCNN"
   ]
  },
  {
   "cell_type": "code",
   "execution_count": 3,
   "id": "2e332318",
   "metadata": {},
   "outputs": [],
   "source": [
    "small_model = SmallCNN()\n",
    "big_model = BigCNN()"
   ]
  },
  {
   "cell_type": "code",
   "execution_count": 4,
   "id": "e4d45523",
   "metadata": {},
   "outputs": [],
   "source": [
    "# Dummy input (batch size = 1, 3 channels, 32x32 image)\n",
    "dummy_input = torch.randn(1, 3, 32, 32)\n",
    "\n",
    "# Export SmallCNN to ONNX\n",
    "torch.onnx.export(small_model, dummy_input, \"small_cnn.onnx\", \n",
    "                  input_names=['input'], output_names=['output'], \n",
    "                  dynamic_axes={'input': {0: 'batch_size'}, 'output': {0: 'batch_size'}})\n",
    "\n",
    "# Export BigCNN to ONNX\n",
    "torch.onnx.export(big_model, dummy_input, \"big_cnn.onnx\", \n",
    "                  input_names=['input'], output_names=['output'], \n",
    "                  dynamic_axes={'input': {0: 'batch_size'}, 'output': {0: 'batch_size'}})"
   ]
  },
  {
   "cell_type": "code",
   "execution_count": 5,
   "id": "1da6cfce",
   "metadata": {},
   "outputs": [
    {
     "data": {
      "text/plain": [
       "SmallCNN(\n",
       "  (conv): Conv2d(3, 16, kernel_size=(3, 3), stride=(1, 1), padding=(1, 1))\n",
       "  (pool): MaxPool2d(kernel_size=2, stride=2, padding=0, dilation=1, ceil_mode=False)\n",
       "  (fc): Linear(in_features=4096, out_features=10, bias=True)\n",
       "  (act): ReLU6(inplace=True)\n",
       "  (dropout): Dropout(p=0.99, inplace=False)\n",
       ")"
      ]
     },
     "execution_count": 5,
     "metadata": {},
     "output_type": "execute_result"
    }
   ],
   "source": [
    "small_model"
   ]
  },
  {
   "cell_type": "code",
   "execution_count": 6,
   "id": "87addcc2",
   "metadata": {},
   "outputs": [
    {
     "data": {
      "text/plain": [
       "BigCNN(\n",
       "  (conv): Conv2d(3, 16, kernel_size=(3, 3), stride=(1, 1), padding=(1, 1))\n",
       "  (pool): MaxPool2d(kernel_size=2, stride=2, padding=0, dilation=1, ceil_mode=False)\n",
       "  (fc): Linear(in_features=4096, out_features=10, bias=True)\n",
       "  (act): ReLU(inplace=True)\n",
       ")"
      ]
     },
     "execution_count": 6,
     "metadata": {},
     "output_type": "execute_result"
    }
   ],
   "source": [
    "big_model"
   ]
  },
  {
   "cell_type": "code",
   "execution_count": 15,
   "id": "c9d9e3df",
   "metadata": {},
   "outputs": [],
   "source": [
    "torch.onnx.export(\n",
    "    small_model, \n",
    "    dummy_input, \n",
    "    \"smallcnn.onnx\", \n",
    "    input_names=[\"input\"], \n",
    "    output_names=[\"output\"],\n",
    "    dynamic_axes={\"input\": {0: \"batch\"}, \"output\": {0: \"batch\"}},\n",
    "    training=torch.onnx.TrainingMode.TRAINING,  # <-- Important!\n",
    "    opset_version=12  # 11+ recommended for Dropout\n",
    ")"
   ]
  },
  {
   "cell_type": "code",
   "execution_count": 14,
   "id": "3f12622e",
   "metadata": {},
   "outputs": [
    {
     "name": "stderr",
     "output_type": "stream",
     "text": [
      "/Library/Frameworks/Python.framework/Versions/3.11/lib/python3.11/site-packages/torch/onnx/utils.py:792: UserWarning: It is recommended that constant folding be turned off ('do_constant_folding=False') when exporting the model in training-amenable mode, i.e. with 'training=TrainingMode.TRAIN' or 'training=TrainingMode.PRESERVE' (when model is in training mode). Otherwise, some learnable model parameters may not translate correctly in the exported ONNX model because constant folding mutates model parameters. Please consider turning off constant folding or setting the training=TrainingMode.EVAL.\n",
      "  warnings.warn(\n"
     ]
    }
   ],
   "source": [
    "torch.onnx.export(\n",
    "    big_model, \n",
    "    dummy_input, \n",
    "    \"bigcnn.onnx\", \n",
    "    input_names=[\"input\"], \n",
    "    output_names=[\"output\"],\n",
    "    dynamic_axes={\"input\": {0: \"batch\"}, \"output\": {0: \"batch\"}},\n",
    "    training=torch.onnx.TrainingMode.TRAINING,  # <-- Important!\n",
    "    opset_version=12  # 11+ recommended for Dropout\n",
    ")"
   ]
  },
  {
   "cell_type": "code",
   "execution_count": null,
   "id": "ff48353c",
   "metadata": {},
   "outputs": [],
   "source": []
  }
 ],
 "metadata": {
  "kernelspec": {
   "display_name": "Python 3",
   "language": "python",
   "name": "python3"
  },
  "language_info": {
   "codemirror_mode": {
    "name": "ipython",
    "version": 3
   },
   "file_extension": ".py",
   "mimetype": "text/x-python",
   "name": "python",
   "nbconvert_exporter": "python",
   "pygments_lexer": "ipython3",
   "version": "3.11.7"
  }
 },
 "nbformat": 4,
 "nbformat_minor": 5
}
