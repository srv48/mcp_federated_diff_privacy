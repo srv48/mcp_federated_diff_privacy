{
 "cells": [
  {
   "cell_type": "code",
   "execution_count": 9,
   "id": "bdef6b5a",
   "metadata": {},
   "outputs": [],
   "source": [
    "import torch\n",
    "import torch.onnx\n",
    "from models import SmallCNN, BigCNN"
   ]
  },
  {
   "cell_type": "code",
   "execution_count": 10,
   "id": "2e332318",
   "metadata": {},
   "outputs": [],
   "source": [
    "small_model = SmallCNN()\n",
    "big_model = BigCNN()"
   ]
  },
  {
   "cell_type": "code",
   "execution_count": 11,
   "id": "e4d45523",
   "metadata": {},
   "outputs": [],
   "source": [
    "# Dummy input (batch size = 1, 3 channels, 32x32 image)\n",
    "dummy_input = torch.randn(1, 3, 32, 32)\n",
    "\n",
    "# Export SmallCNN to ONNX\n",
    "torch.onnx.export(small_model, dummy_input, \"small_cnn.onnx\", \n",
    "                  input_names=['input'], output_names=['output'], \n",
    "                  dynamic_axes={'input': {0: 'batch_size'}, 'output': {0: 'batch_size'}})\n",
    "\n",
    "# Export BigCNN to ONNX\n",
    "torch.onnx.export(big_model, dummy_input, \"big_cnn.onnx\", \n",
    "                  input_names=['input'], output_names=['output'], \n",
    "                  dynamic_axes={'input': {0: 'batch_size'}, 'output': {0: 'batch_size'}})"
   ]
  },
  {
   "cell_type": "code",
   "execution_count": null,
   "id": "1da6cfce",
   "metadata": {},
   "outputs": [],
   "source": []
  }
 ],
 "metadata": {
  "kernelspec": {
   "display_name": "Python 3",
   "language": "python",
   "name": "python3"
  },
  "language_info": {
   "codemirror_mode": {
    "name": "ipython",
    "version": 3
   },
   "file_extension": ".py",
   "mimetype": "text/x-python",
   "name": "python",
   "nbconvert_exporter": "python",
   "pygments_lexer": "ipython3",
   "version": "3.11.7"
  }
 },
 "nbformat": 4,
 "nbformat_minor": 5
}
